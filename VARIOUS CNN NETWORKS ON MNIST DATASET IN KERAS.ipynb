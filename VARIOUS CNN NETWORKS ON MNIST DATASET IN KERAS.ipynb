{
  "nbformat": 4,
  "nbformat_minor": 0,
  "metadata": {
    "colab": {
      "name": "CNN ON MNIST.ipynb",
      "version": "0.3.2",
      "provenance": [],
      "collapsed_sections": []
    },
    "kernelspec": {
      "name": "python3",
      "display_name": "Python 3"
    },
    "accelerator": "GPU"
  },
  "cells": [
    {
      "cell_type": "code",
      "metadata": {
        "id": "dOkFcl47I_AN",
        "colab_type": "code",
        "outputId": "9bca5580-cb25-4ffa-f85f-cdb716ff2029",
        "colab": {
          "base_uri": "https://localhost:8080/",
          "height": 33
        }
      },
      "source": [
        "from __future__ import print_function\n",
        "import keras\n",
        "from keras.datasets import mnist\n",
        "from keras.models import Sequential\n",
        "from keras.layers import Dense, Dropout, Flatten, BatchNormalization\n",
        "from keras.layers import Conv2D, MaxPooling2D\n",
        "from keras import backend as K"
      ],
      "execution_count": 1,
      "outputs": [
        {
          "output_type": "stream",
          "text": [
            "Using TensorFlow backend.\n"
          ],
          "name": "stderr"
        }
      ]
    },
    {
      "cell_type": "code",
      "metadata": {
        "id": "IurgZlwOJOl7",
        "colab_type": "code",
        "colab": {}
      },
      "source": [
        "batch_size = 128\n",
        "num_classes = 10\n",
        "epochs = 12"
      ],
      "execution_count": 0,
      "outputs": []
    },
    {
      "cell_type": "code",
      "metadata": {
        "id": "Z4v-aAZ-JWJM",
        "colab_type": "code",
        "outputId": "105c4607-e1df-4f72-9f5c-614abc9ea678",
        "colab": {
          "base_uri": "https://localhost:8080/",
          "height": 50
        }
      },
      "source": [
        "# input image dimensions\n",
        "img_rows, img_cols = 28, 28\n",
        "\n",
        "# the data, split between train and test sets\n",
        "(x_train, y_train), (x_test, y_test) = mnist.load_data()\n"
      ],
      "execution_count": 3,
      "outputs": [
        {
          "output_type": "stream",
          "text": [
            "Downloading data from https://s3.amazonaws.com/img-datasets/mnist.npz\n",
            "11493376/11490434 [==============================] - 1s 0us/step\n"
          ],
          "name": "stdout"
        }
      ]
    },
    {
      "cell_type": "code",
      "metadata": {
        "id": "zOL5rUGHJe9_",
        "colab_type": "code",
        "colab": {}
      },
      "source": [
        "if K.image_data_format() == 'channels_first':\n",
        "    x_train = x_train.reshape(x_train.shape[0], 1, img_rows, img_cols)\n",
        "    x_test = x_test.reshape(x_test.shape[0], 1, img_rows, img_cols)\n",
        "    input_shape = (1, img_rows, img_cols)\n",
        "else:\n",
        "    x_train = x_train.reshape(x_train.shape[0], img_rows, img_cols, 1)\n",
        "    x_test = x_test.reshape(x_test.shape[0], img_rows, img_cols, 1)\n",
        "    input_shape = (img_rows, img_cols, 1)"
      ],
      "execution_count": 0,
      "outputs": []
    },
    {
      "cell_type": "code",
      "metadata": {
        "id": "mokvRii3Jh-y",
        "colab_type": "code",
        "outputId": "7e48c63e-a5df-4d3f-8f7f-7e44bca1f854",
        "colab": {
          "base_uri": "https://localhost:8080/",
          "height": 67
        }
      },
      "source": [
        "x_train = x_train.astype('float32')\n",
        "x_test = x_test.astype('float32')\n",
        "x_train /= 255\n",
        "x_test /= 255\n",
        "print('x_train shape:', x_train.shape)\n",
        "print(x_train.shape[0], 'train samples')\n",
        "print(x_test.shape[0], 'test samples')\n"
      ],
      "execution_count": 5,
      "outputs": [
        {
          "output_type": "stream",
          "text": [
            "x_train shape: (60000, 28, 28, 1)\n",
            "60000 train samples\n",
            "10000 test samples\n"
          ],
          "name": "stdout"
        }
      ]
    },
    {
      "cell_type": "code",
      "metadata": {
        "id": "PJ5dP723Jj83",
        "colab_type": "code",
        "colab": {}
      },
      "source": [
        "# convert class vectors to binary class matrices\n",
        "y_train = keras.utils.to_categorical(y_train, num_classes)\n",
        "y_test = keras.utils.to_categorical(y_test, num_classes)\n"
      ],
      "execution_count": 0,
      "outputs": []
    },
    {
      "cell_type": "markdown",
      "metadata": {
        "id": "zUmg7ODTZBEK",
        "colab_type": "text"
      },
      "source": [
        "# MODEL 1\n",
        "## 3  Convolutional Layer"
      ]
    },
    {
      "cell_type": "code",
      "metadata": {
        "id": "deMKu4W0KDyB",
        "colab_type": "code",
        "colab": {}
      },
      "source": [
        "model = Sequential()\n",
        "#Layer 1\n",
        "model.add(Conv2D(32, kernel_size=(3, 3),\n",
        "                 activation='relu',\n",
        "                 input_shape=input_shape,padding='same'))\n",
        "model.add(Dropout(0.25))\n",
        "\n",
        "#Layer 2\n",
        "model.add(Conv2D(64, (3, 3), activation='relu'))\n",
        "\n",
        "#Layer 3\n",
        "model.add(Conv2D(64, (3, 3), activation='relu'))\n",
        "\n",
        "model.add(MaxPooling2D(pool_size=(2, 2)))\n",
        "model.add(Dropout(0.25))\n",
        "model.add(Flatten())\n",
        "\n",
        "\n",
        "model.add(Dense(128, activation='relu'))\n",
        "model.add(Dropout(0.5))\n",
        "model.add(Dense(num_classes, activation='softmax'))\n"
      ],
      "execution_count": 0,
      "outputs": []
    },
    {
      "cell_type": "code",
      "metadata": {
        "id": "_yBjLkjBL4Vm",
        "colab_type": "code",
        "outputId": "0a7abf55-c342-4d84-d3ec-4bd33f68d0ba",
        "colab": {
          "base_uri": "https://localhost:8080/",
          "height": 484
        }
      },
      "source": [
        "\n",
        "model.compile(loss=keras.losses.categorical_crossentropy,\n",
        "              optimizer=keras.optimizers.Adadelta(),\n",
        "              metrics=['accuracy'])\n",
        "\n",
        "history=model.fit(x_train, y_train,\n",
        "          batch_size=batch_size,\n",
        "          epochs=epochs,\n",
        "          verbose=1,\n",
        "          validation_data=(x_test, y_test))\n",
        "score = model.evaluate(x_test, y_test, verbose=0)\n",
        "print('Test loss:', score[0])\n",
        "print('Test accuracy:', score[1])"
      ],
      "execution_count": 0,
      "outputs": [
        {
          "output_type": "stream",
          "text": [
            "Train on 60000 samples, validate on 10000 samples\n",
            "Epoch 1/12\n",
            "60000/60000 [==============================] - 395s 7ms/step - loss: 0.2773 - acc: 0.9143 - val_loss: 0.0518 - val_acc: 0.9825\n",
            "Epoch 2/12\n",
            "60000/60000 [==============================] - 392s 7ms/step - loss: 0.0846 - acc: 0.9752 - val_loss: 0.0354 - val_acc: 0.9878\n",
            "Epoch 3/12\n",
            "60000/60000 [==============================] - 392s 7ms/step - loss: 0.0622 - acc: 0.9814 - val_loss: 0.0307 - val_acc: 0.9896\n",
            "Epoch 4/12\n",
            "60000/60000 [==============================] - 389s 6ms/step - loss: 0.0508 - acc: 0.9849 - val_loss: 0.0274 - val_acc: 0.9905\n",
            "Epoch 5/12\n",
            "60000/60000 [==============================] - 384s 6ms/step - loss: 0.0442 - acc: 0.9869 - val_loss: 0.0238 - val_acc: 0.9921\n",
            "Epoch 6/12\n",
            "60000/60000 [==============================] - 378s 6ms/step - loss: 0.0387 - acc: 0.9883 - val_loss: 0.0241 - val_acc: 0.9914\n",
            "Epoch 7/12\n",
            "60000/60000 [==============================] - 377s 6ms/step - loss: 0.0346 - acc: 0.9899 - val_loss: 0.0215 - val_acc: 0.9929\n",
            "Epoch 8/12\n",
            "60000/60000 [==============================] - 376s 6ms/step - loss: 0.0313 - acc: 0.9906 - val_loss: 0.0247 - val_acc: 0.9914\n",
            "Epoch 9/12\n",
            "60000/60000 [==============================] - 372s 6ms/step - loss: 0.0297 - acc: 0.9912 - val_loss: 0.0251 - val_acc: 0.9922\n",
            "Epoch 10/12\n",
            "60000/60000 [==============================] - 375s 6ms/step - loss: 0.0270 - acc: 0.9918 - val_loss: 0.0222 - val_acc: 0.9923\n",
            "Epoch 11/12\n",
            "60000/60000 [==============================] - 377s 6ms/step - loss: 0.0265 - acc: 0.9914 - val_loss: 0.0209 - val_acc: 0.9930\n",
            "Epoch 12/12\n",
            "60000/60000 [==============================] - 378s 6ms/step - loss: 0.0236 - acc: 0.9929 - val_loss: 0.0223 - val_acc: 0.9931\n",
            "Test loss: 0.02229008813643868\n",
            "Test accuracy: 0.9931\n"
          ],
          "name": "stdout"
        }
      ]
    },
    {
      "cell_type": "code",
      "metadata": {
        "id": "KwPKUoBpM1it",
        "colab_type": "code",
        "outputId": "a352baaf-9932-49b3-fba1-70b202146f62",
        "colab": {
          "base_uri": "https://localhost:8080/",
          "height": 318
        }
      },
      "source": [
        "from IPython.display import Image\n",
        "import matplotlib.pyplot as plt\n",
        "\n",
        "score = model.evaluate(x_test, y_test, verbose=0) \n",
        "print('Test score:', score[0]) \n",
        "print('Test accuracy:', score[1])\n",
        "\n",
        "fig,ax = plt.subplots(1,1)\n",
        "ax.set_xlabel('epoch') ; ax.set_ylabel('Categorical Crossentropy Loss')\n",
        "\n",
        "# list of epoch numbers\n",
        "x = list(range(1,epochs+1))\n",
        "\n",
        "from keras.callbacks import History\n",
        "vy = history.history['val_loss']\n",
        "ty = history.history['loss']\n",
        "ax.plot(x, vy, 'b', label=\"Validation Loss\")\n",
        "ax.plot(x, ty, 'r', label=\"Train Loss\")\n",
        "plt.legend()\n",
        "plt.grid()\n",
        "\n",
        "fig.savefig('my_figure.png')\n",
        "# Image('my_figure.png')"
      ],
      "execution_count": 0,
      "outputs": [
        {
          "output_type": "stream",
          "text": [
            "Test score: 0.02229008813643868\n",
            "Test accuracy: 0.9931\n"
          ],
          "name": "stdout"
        },
        {
          "output_type": "display_data",
          "data": {
            "image/png": "[encoded data removed]",
            "text/plain": [
              "<Figure size 432x288 with 1 Axes>"
            ]
          },
          "metadata": {
            "tags": []
          }
        }
      ]
    },
    {
      "cell_type": "markdown",
      "metadata": {
        "id": "zt_mUMqKZE-z",
        "colab_type": "text"
      },
      "source": [
        "# MODEL 2\n",
        "## 5 Convolutional Layer"
      ]
    },
    {
      "cell_type": "code",
      "metadata": {
        "id": "Gkou_61oYsNB",
        "colab_type": "code",
        "outputId": "d3394e65-c65c-43ca-b307-460ceca37413",
        "colab": {
          "base_uri": "https://localhost:8080/",
          "height": 864
        }
      },
      "source": [
        "model = Sequential()\n",
        "#Layer 1\n",
        "model.add(Conv2D(32, kernel_size=(5,5),activation='relu',input_shape=input_shape,padding='same'))\n",
        "model.add(Dropout(0.5))\n",
        "model.add(BatchNormalization())\n",
        "\n",
        "#Layer 2\n",
        "model.add(Conv2D(64, (5, 5), activation='relu',padding='same'))\n",
        "model.add(MaxPooling2D(pool_size=(2, 2)))\n",
        "model.add(Dropout(0.8))\n",
        "\n",
        "#Layer 3\n",
        "model.add(Conv2D(64, (5, 5), activation='relu',padding='same'))\n",
        "model.add(Dropout(0.5))\n",
        "model.add(BatchNormalization())\n",
        "\n",
        "#Layer 4\n",
        "model.add(Conv2D(128, (5, 5), activation='relu',padding='same'))\n",
        "model.add(MaxPooling2D(pool_size=(2, 2)))\n",
        "model.add(BatchNormalization())\n",
        "model.add(Dropout(0.25))\n",
        "\n",
        "#Layer 5\n",
        "model.add(Conv2D(256, (5, 5), activation='relu',padding='same'))\n",
        "model.add(Dropout(0.8))\n",
        "model.add(BatchNormalization())\n",
        "model.add(MaxPooling2D(pool_size=(2, 2)))\n",
        "model.add(Flatten())\n",
        "\n",
        "\n",
        "model.add(Dense(128, activation='relu'))\n",
        "model.add(Dropout(0.5))\n",
        "model.add(Dense(num_classes, activation='softmax'))\n",
        "model.summary()"
      ],
      "execution_count": 0,
      "outputs": [
        {
          "output_type": "stream",
          "text": [
            "_________________________________________________________________\n",
            "Layer (type)                 Output Shape              Param #   \n",
            "=================================================================\n",
            "conv2d_112 (Conv2D)          (None, 14, 10, 32)        832       \n",
            "_________________________________________________________________\n",
            "dropout_88 (Dropout)         (None, 14, 10, 32)        0         \n",
            "_________________________________________________________________\n",
            "batch_normalization_34 (Batc (None, 14, 10, 32)        128       \n",
            "_________________________________________________________________\n",
            "conv2d_113 (Conv2D)          (None, 14, 10, 64)        51264     \n",
            "_________________________________________________________________\n",
            "max_pooling2d_42 (MaxPooling (None, 7, 5, 64)          0         \n",
            "_________________________________________________________________\n",
            "dropout_89 (Dropout)         (None, 7, 5, 64)          0         \n",
            "_________________________________________________________________\n",
            "conv2d_114 (Conv2D)          (None, 7, 5, 64)          102464    \n",
            "_________________________________________________________________\n",
            "dropout_90 (Dropout)         (None, 7, 5, 64)          0         \n",
            "_________________________________________________________________\n",
            "batch_normalization_35 (Batc (None, 7, 5, 64)          256       \n",
            "_________________________________________________________________\n",
            "conv2d_115 (Conv2D)          (None, 7, 5, 128)         204928    \n",
            "_________________________________________________________________\n",
            "max_pooling2d_43 (MaxPooling (None, 3, 2, 128)         0         \n",
            "_________________________________________________________________\n",
            "batch_normalization_36 (Batc (None, 3, 2, 128)         512       \n",
            "_________________________________________________________________\n",
            "dropout_91 (Dropout)         (None, 3, 2, 128)         0         \n",
            "_________________________________________________________________\n",
            "conv2d_116 (Conv2D)          (None, 3, 2, 256)         819456    \n",
            "_________________________________________________________________\n",
            "dropout_92 (Dropout)         (None, 3, 2, 256)         0         \n",
            "_________________________________________________________________\n",
            "batch_normalization_37 (Batc (None, 3, 2, 256)         1024      \n",
            "_________________________________________________________________\n",
            "max_pooling2d_44 (MaxPooling (None, 1, 1, 256)         0         \n",
            "_________________________________________________________________\n",
            "flatten_34 (Flatten)         (None, 256)               0         \n",
            "_________________________________________________________________\n",
            "dense_26 (Dense)             (None, 128)               32896     \n",
            "_________________________________________________________________\n",
            "dropout_93 (Dropout)         (None, 128)               0         \n",
            "_________________________________________________________________\n",
            "dense_27 (Dense)             (None, 10)                1290      \n",
            "=================================================================\n",
            "Total params: 1,215,050\n",
            "Trainable params: 1,214,090\n",
            "Non-trainable params: 960\n",
            "_________________________________________________________________\n"
          ],
          "name": "stdout"
        }
      ]
    },
    {
      "cell_type": "code",
      "metadata": {
        "id": "_hmrP4pVaqkr",
        "colab_type": "code",
        "outputId": "6c7f063e-83de-46c0-cdb4-9769e375450e",
        "colab": {
          "base_uri": "https://localhost:8080/",
          "height": 484
        }
      },
      "source": [
        "\n",
        "model.compile(loss=keras.losses.categorical_crossentropy,\n",
        "              optimizer=keras.optimizers.Adadelta(),\n",
        "              metrics=['accuracy'])\n",
        "\n",
        "history=model.fit(x_train, y_train,\n",
        "          batch_size=batch_size,\n",
        "          epochs=epochs,\n",
        "          verbose=1,\n",
        "          validation_data=(x_test, y_test))\n",
        "score = model.evaluate(x_test, y_test, verbose=0)\n",
        "print('Test loss:', score[0])\n",
        "print('Test accuracy:', score[1])"
      ],
      "execution_count": 0,
      "outputs": [
        {
          "output_type": "stream",
          "text": [
            "Train on 60000 samples, validate on 10000 samples\n",
            "Epoch 1/12\n",
            "60000/60000 [==============================] - 423s 7ms/step - loss: 1.4997 - acc: 0.4791 - val_loss: 0.4765 - val_acc: 0.8408\n",
            "Epoch 2/12\n",
            "60000/60000 [==============================] - 420s 7ms/step - loss: 0.5599 - acc: 0.8273 - val_loss: 0.2262 - val_acc: 0.9408\n",
            "Epoch 3/12\n",
            "60000/60000 [==============================] - 416s 7ms/step - loss: 0.4078 - acc: 0.8791 - val_loss: 0.1981 - val_acc: 0.9506\n",
            "Epoch 4/12\n",
            "60000/60000 [==============================] - 415s 7ms/step - loss: 0.3378 - acc: 0.9019 - val_loss: 0.1611 - val_acc: 0.9624\n",
            "Epoch 5/12\n",
            "60000/60000 [==============================] - 420s 7ms/step - loss: 0.2886 - acc: 0.9160 - val_loss: 0.1266 - val_acc: 0.9683\n",
            "Epoch 6/12\n",
            "60000/60000 [==============================] - 420s 7ms/step - loss: 0.2628 - acc: 0.9237 - val_loss: 0.1236 - val_acc: 0.9725\n",
            "Epoch 7/12\n",
            "60000/60000 [==============================] - 416s 7ms/step - loss: 0.2398 - acc: 0.9308 - val_loss: 0.1258 - val_acc: 0.9722\n",
            "Epoch 8/12\n",
            "60000/60000 [==============================] - 417s 7ms/step - loss: 0.2244 - acc: 0.9349 - val_loss: 0.1053 - val_acc: 0.9780\n",
            "Epoch 9/12\n",
            "60000/60000 [==============================] - 422s 7ms/step - loss: 0.2132 - acc: 0.9390 - val_loss: 0.1084 - val_acc: 0.9795\n",
            "Epoch 10/12\n",
            "60000/60000 [==============================] - 427s 7ms/step - loss: 0.2044 - acc: 0.9416 - val_loss: 0.1087 - val_acc: 0.9783\n",
            "Epoch 11/12\n",
            "60000/60000 [==============================] - 434s 7ms/step - loss: 0.1911 - acc: 0.9457 - val_loss: 0.1034 - val_acc: 0.9801\n",
            "Epoch 12/12\n",
            "60000/60000 [==============================] - 438s 7ms/step - loss: 0.1851 - acc: 0.9466 - val_loss: 0.0969 - val_acc: 0.9825\n",
            "Test loss: 0.09692391774356365\n",
            "Test accuracy: 0.9825\n"
          ],
          "name": "stdout"
        }
      ]
    },
    {
      "cell_type": "code",
      "metadata": {
        "id": "nAer3TaKEbaR",
        "colab_type": "code",
        "outputId": "8cdf4ddb-1267-4c89-e77b-2bc380cb2661",
        "colab": {
          "base_uri": "https://localhost:8080/",
          "height": 318
        }
      },
      "source": [
        "from IPython.display import Image\n",
        "import matplotlib.pyplot as plt\n",
        "\n",
        "score = model.evaluate(x_test, y_test, verbose=0) \n",
        "print('Test score:', score[0]) \n",
        "print('Test accuracy:', score[1])\n",
        "\n",
        "fig,ax = plt.subplots(1,1)\n",
        "ax.set_xlabel('epoch') ; ax.set_ylabel('Categorical Crossentropy Loss')\n",
        "\n",
        "# list of epoch numbers\n",
        "x = list(range(1,epochs+1))\n",
        "\n",
        "from keras.callbacks import History\n",
        "vy = history.history['val_loss']\n",
        "ty = history.history['loss']\n",
        "ax.plot(x, vy, 'b', label=\"Validation Loss\")\n",
        "ax.plot(x, ty, 'r', label=\"Train Loss\")\n",
        "plt.legend()\n",
        "plt.grid()\n",
        "\n",
        "fig.savefig('my_figure.png')\n",
        "# Image('my_figure.png')"
      ],
      "execution_count": 0,
      "outputs": [
        {
          "output_type": "stream",
          "text": [
            "Test score: 0.09692391774356365\n",
            "Test accuracy: 0.9825\n"
          ],
          "name": "stdout"
        },
        {
          "output_type": "display_data",
          "data": {
            "image/png": "[encoded data removed]",
            "text/plain": [
              "<Figure size 432x288 with 1 Axes>"
            ]
          },
          "metadata": {
            "tags": []
          }
        }
      ]
    },
    {
      "cell_type": "markdown",
      "metadata": {
        "id": "ngRSXxVOFT02",
        "colab_type": "text"
      },
      "source": [
        "# MODEL 3\n",
        "## 7 Convolutional Layer"
      ]
    },
    {
      "cell_type": "code",
      "metadata": {
        "id": "MP2mFrZtFUVX",
        "colab_type": "code",
        "outputId": "827db3fb-77fb-4eb1-a740-e7b14cd40850",
        "colab": {
          "base_uri": "https://localhost:8080/",
          "height": 1000
        }
      },
      "source": [
        "model = Sequential()\n",
        "#Layer 1\n",
        "model.add(Conv2D(32, kernel_size=(7,7),activation='relu',input_shape=input_shape,strides=(4,4),padding='same'))\n",
        "model.add(Dropout(0.25))\n",
        "model.add(BatchNormalization())\n",
        "model.add(MaxPooling2D(pool_size=(1,1)))\n",
        "\n",
        "#Layer 2\n",
        "model.add(Conv2D(64, (7, 7), activation='relu',strides=(5,5),padding='same'))\n",
        "model.add(BatchNormalization())\n",
        "model.add(Dropout(0.45))\n",
        "model.add(MaxPooling2D(pool_size=(1,1)))\n",
        "\n",
        "\n",
        "#Layer 3\n",
        "model.add(Conv2D(96, (5, 5), activation='relu',strides=(3,3),padding='same'))\n",
        "model.add(Dropout(0.5))\n",
        "model.add(BatchNormalization())\n",
        "model.add(MaxPooling2D(pool_size=(1,1)))\n",
        "\n",
        "#Layer 4\n",
        "model.add(Conv2D(100, (7, 7), activation='relu',strides=(3,3),padding='same'))\n",
        "model.add(BatchNormalization())\n",
        "model.add(Dropout(0.5))\n",
        "\n",
        "#Layer 5\n",
        "model.add(Conv2D(150, (5, 5), activation='relu',strides=(2,2),padding='same'))\n",
        "model.add(BatchNormalization())\n",
        "model.add(Dropout(0.5))\n",
        "model.add(MaxPooling2D(pool_size=(1,1)))\n",
        "\n",
        "#Layer 6\n",
        "model.add(Conv2D(200, (5, 5), activation='relu',strides=(2,2),padding='same'))\n",
        "model.add(Dropout(0.5))\n",
        "model.add(BatchNormalization())\n",
        "model.add(MaxPooling2D(pool_size=(1,1)))\n",
        "\n",
        "\n",
        "#Layer 7\n",
        "model.add(Conv2D(250, (7, 7), activation='relu',strides=(2,2),padding='same'))\n",
        "model.add(BatchNormalization())\n",
        "model.add(Dropout(0.5))\n",
        "model.add(MaxPooling2D(pool_size=(1,1)))\n",
        "\n",
        "model.add(Flatten())\n",
        "\n",
        "model.add(Dense(128, activation='relu'))\n",
        "model.add(Dense(num_classes, activation='softmax'))\n",
        "model.summary()"
      ],
      "execution_count": 0,
      "outputs": [
        {
          "output_type": "stream",
          "text": [
            "_________________________________________________________________\n",
            "Layer (type)                 Output Shape              Param #   \n",
            "=================================================================\n",
            "conv2d_75 (Conv2D)           (None, 7, 7, 32)          1600      \n",
            "_________________________________________________________________\n",
            "dropout_69 (Dropout)         (None, 7, 7, 32)          0         \n",
            "_________________________________________________________________\n",
            "batch_normalization_68 (Batc (None, 7, 7, 32)          128       \n",
            "_________________________________________________________________\n",
            "max_pooling2d_26 (MaxPooling (None, 7, 7, 32)          0         \n",
            "_________________________________________________________________\n",
            "conv2d_76 (Conv2D)           (None, 2, 2, 64)          100416    \n",
            "_________________________________________________________________\n",
            "batch_normalization_69 (Batc (None, 2, 2, 64)          256       \n",
            "_________________________________________________________________\n",
            "dropout_70 (Dropout)         (None, 2, 2, 64)          0         \n",
            "_________________________________________________________________\n",
            "max_pooling2d_27 (MaxPooling (None, 2, 2, 64)          0         \n",
            "_________________________________________________________________\n",
            "conv2d_77 (Conv2D)           (None, 1, 1, 96)          153696    \n",
            "_________________________________________________________________\n",
            "dropout_71 (Dropout)         (None, 1, 1, 96)          0         \n",
            "_________________________________________________________________\n",
            "batch_normalization_70 (Batc (None, 1, 1, 96)          384       \n",
            "_________________________________________________________________\n",
            "max_pooling2d_28 (MaxPooling (None, 1, 1, 96)          0         \n",
            "_________________________________________________________________\n",
            "conv2d_78 (Conv2D)           (None, 1, 1, 100)         470500    \n",
            "_________________________________________________________________\n",
            "batch_normalization_71 (Batc (None, 1, 1, 100)         400       \n",
            "_________________________________________________________________\n",
            "dropout_72 (Dropout)         (None, 1, 1, 100)         0         \n",
            "_________________________________________________________________\n",
            "conv2d_79 (Conv2D)           (None, 1, 1, 150)         375150    \n",
            "_________________________________________________________________\n",
            "batch_normalization_72 (Batc (None, 1, 1, 150)         600       \n",
            "_________________________________________________________________\n",
            "dropout_73 (Dropout)         (None, 1, 1, 150)         0         \n",
            "_________________________________________________________________\n",
            "max_pooling2d_29 (MaxPooling (None, 1, 1, 150)         0         \n",
            "_________________________________________________________________\n",
            "conv2d_80 (Conv2D)           (None, 1, 1, 200)         750200    \n",
            "_________________________________________________________________\n",
            "dropout_74 (Dropout)         (None, 1, 1, 200)         0         \n",
            "_________________________________________________________________\n",
            "batch_normalization_73 (Batc (None, 1, 1, 200)         800       \n",
            "_________________________________________________________________\n",
            "max_pooling2d_30 (MaxPooling (None, 1, 1, 200)         0         \n",
            "_________________________________________________________________\n",
            "conv2d_81 (Conv2D)           (None, 1, 1, 250)         2450250   \n",
            "_________________________________________________________________\n",
            "batch_normalization_74 (Batc (None, 1, 1, 250)         1000      \n",
            "_________________________________________________________________\n",
            "dropout_75 (Dropout)         (None, 1, 1, 250)         0         \n",
            "_________________________________________________________________\n",
            "max_pooling2d_31 (MaxPooling (None, 1, 1, 250)         0         \n",
            "_________________________________________________________________\n",
            "flatten_9 (Flatten)          (None, 250)               0         \n",
            "_________________________________________________________________\n",
            "dense_15 (Dense)             (None, 128)               32128     \n",
            "_________________________________________________________________\n",
            "dense_16 (Dense)             (None, 10)                1290      \n",
            "=================================================================\n",
            "Total params: 4,338,798\n",
            "Trainable params: 4,337,014\n",
            "Non-trainable params: 1,784\n",
            "_________________________________________________________________\n"
          ],
          "name": "stdout"
        }
      ]
    },
    {
      "cell_type": "code",
      "metadata": {
        "id": "nNCnWN0JPMw9",
        "colab_type": "code",
        "outputId": "4be206e2-47b0-4321-842a-806266065075",
        "colab": {
          "base_uri": "https://localhost:8080/",
          "height": 484
        }
      },
      "source": [
        "\n",
        "\n",
        "model.compile(loss=keras.losses.categorical_crossentropy,\n",
        "              optimizer=keras.optimizers.Adadelta(),\n",
        "              metrics=['accuracy'])\n",
        "\n",
        "history=model.fit(x_train, y_train,\n",
        "          batch_size=batch_size,\n",
        "          epochs=epochs,\n",
        "          verbose=1,\n",
        "          validation_data=(x_test, y_test))\n",
        "score = model.evaluate(x_test, y_test, verbose=0)\n",
        "print('Test loss:', score[0])\n",
        "print('Test accuracy:', score[1])"
      ],
      "execution_count": 0,
      "outputs": [
        {
          "output_type": "stream",
          "text": [
            "Train on 60000 samples, validate on 10000 samples\n",
            "Epoch 1/12\n",
            "60000/60000 [==============================] - 33s 542us/step - loss: 1.0206 - acc: 0.6629 - val_loss: 0.2075 - val_acc: 0.9514\n",
            "Epoch 2/12\n",
            "60000/60000 [==============================] - 27s 454us/step - loss: 0.3411 - acc: 0.9096 - val_loss: 0.1315 - val_acc: 0.9687\n",
            "Epoch 3/12\n",
            "60000/60000 [==============================] - 27s 454us/step - loss: 0.2534 - acc: 0.9368 - val_loss: 0.1073 - val_acc: 0.9736\n",
            "Epoch 4/12\n",
            "60000/60000 [==============================] - 27s 454us/step - loss: 0.2185 - acc: 0.9462 - val_loss: 0.0824 - val_acc: 0.9807\n",
            "Epoch 5/12\n",
            "60000/60000 [==============================] - 27s 453us/step - loss: 0.1957 - acc: 0.9534 - val_loss: 0.0732 - val_acc: 0.9812\n",
            "Epoch 6/12\n",
            "60000/60000 [==============================] - 27s 453us/step - loss: 0.1750 - acc: 0.9580 - val_loss: 0.0611 - val_acc: 0.9853\n",
            "Epoch 7/12\n",
            "60000/60000 [==============================] - 27s 456us/step - loss: 0.1650 - acc: 0.9602 - val_loss: 0.0636 - val_acc: 0.9843\n",
            "Epoch 8/12\n",
            "60000/60000 [==============================] - 27s 454us/step - loss: 0.1568 - acc: 0.9623 - val_loss: 0.0630 - val_acc: 0.9847\n",
            "Epoch 9/12\n",
            "60000/60000 [==============================] - 27s 453us/step - loss: 0.1474 - acc: 0.9658 - val_loss: 0.0620 - val_acc: 0.9841\n",
            "Epoch 10/12\n",
            "60000/60000 [==============================] - 27s 453us/step - loss: 0.1399 - acc: 0.9669 - val_loss: 0.0545 - val_acc: 0.9871\n",
            "Epoch 11/12\n",
            "60000/60000 [==============================] - 28s 459us/step - loss: 0.1369 - acc: 0.9674 - val_loss: 0.0577 - val_acc: 0.9859\n",
            "Epoch 12/12\n",
            "60000/60000 [==============================] - 27s 456us/step - loss: 0.1304 - acc: 0.9693 - val_loss: 0.0603 - val_acc: 0.9848\n",
            "Test loss: 0.060311755873821676\n",
            "Test accuracy: 0.9848\n"
          ],
          "name": "stdout"
        }
      ]
    },
    {
      "cell_type": "code",
      "metadata": {
        "id": "i48tnUEsPM_y",
        "colab_type": "code",
        "outputId": "5dd80dcb-8e6e-49ee-876c-959b20f4d677",
        "colab": {
          "base_uri": "https://localhost:8080/",
          "height": 318
        }
      },
      "source": [
        "from IPython.display import Image\n",
        "import matplotlib.pyplot as plt\n",
        "\n",
        "score = model.evaluate(x_test, y_test, verbose=0) \n",
        "print('Test score:', score[0]) \n",
        "print('Test accuracy:', score[1])\n",
        "\n",
        "fig,ax = plt.subplots(1,1)\n",
        "ax.set_xlabel('epoch') ; ax.set_ylabel('Categorical Crossentropy Loss')\n",
        "\n",
        "# list of epoch numbers\n",
        "x = list(range(1,epochs+1))\n",
        "\n",
        "from keras.callbacks import History\n",
        "vy = history.history['val_loss']\n",
        "ty = history.history['loss']\n",
        "ax.plot(x, vy, 'b', label=\"Validation Loss\")\n",
        "ax.plot(x, ty, 'r', label=\"Train Loss\")\n",
        "plt.legend()\n",
        "plt.grid()\n",
        "\n",
        "fig.savefig('my_figure.png')\n",
        "# Image('my_figure.png')"
      ],
      "execution_count": 0,
      "outputs": [
        {
          "output_type": "stream",
          "text": [
            "Test score: 0.060311755873821676\n",
            "Test accuracy: 0.9848\n"
          ],
          "name": "stdout"
        },
        {
          "output_type": "display_data",
          "data": {
            "image/png": "[encoded data removed]",
            "text/plain": [
              "<Figure size 432x288 with 1 Axes>"
            ]
          },
          "metadata": {
            "tags": []
          }
        }
      ]
    },
    {
      "cell_type": "markdown",
      "metadata": {
        "id": "4KUvdpOl4tco",
        "colab_type": "text"
      },
      "source": [
        "# MODEL4 \n",
        "##  WITHOUT DROPOUT AND BATCH NORMALIZATION"
      ]
    },
    {
      "cell_type": "code",
      "metadata": {
        "id": "dDpmIKPhw4Ox",
        "colab_type": "code",
        "colab": {}
      },
      "source": [
        "model = Sequential()\n",
        "#Layer 1\n",
        "model.add(Conv2D(32, kernel_size=(3, 3),\n",
        "                 activation='relu',\n",
        "                 input_shape=input_shape,padding='same'))\n",
        "\n",
        "#Layer 2\n",
        "model.add(Conv2D(64, (3, 3), activation='relu'))\n",
        "\n",
        "#Layer 3\n",
        "model.add(Conv2D(64, (3, 3), activation='relu'))\n",
        "\n",
        "model.add(MaxPooling2D(pool_size=(2, 2)))\n",
        "model.add(Flatten())\n",
        "\n",
        "\n",
        "model.add(Dense(128, activation='relu'))\n",
        "model.add(Dropout(0.5))\n",
        "model.add(Dense(num_classes, activation='softmax'))"
      ],
      "execution_count": 0,
      "outputs": []
    },
    {
      "cell_type": "code",
      "metadata": {
        "id": "rdHPBEp05JP3",
        "colab_type": "code",
        "colab": {
          "base_uri": "https://localhost:8080/",
          "height": 605
        },
        "outputId": "497c2b54-21ee-438f-deba-23c286dc7e8a"
      },
      "source": [
        "model.compile(loss=keras.losses.categorical_crossentropy,\n",
        "              optimizer=keras.optimizers.Adadelta(),\n",
        "              metrics=['accuracy'])\n",
        "\n",
        "history=model.fit(x_train, y_train,\n",
        "          batch_size=batch_size,\n",
        "          epochs=epochs,\n",
        "          verbose=1,\n",
        "          validation_data=(x_test, y_test))\n",
        "score = model.evaluate(x_test, y_test, verbose=0)\n",
        "print('Test loss:', score[0])\n",
        "print('Test accuracy:', score[1])"
      ],
      "execution_count": 8,
      "outputs": [
        {
          "output_type": "stream",
          "text": [
            "W0706 02:28:50.833689 139745330485120 deprecation_wrapper.py:119] From /usr/local/lib/python3.6/dist-packages/keras/optimizers.py:790: The name tf.train.Optimizer is deprecated. Please use tf.compat.v1.train.Optimizer instead.\n",
            "\n",
            "W0706 02:28:50.845573 139745330485120 deprecation_wrapper.py:119] From /usr/local/lib/python3.6/dist-packages/keras/backend/tensorflow_backend.py:3295: The name tf.log is deprecated. Please use tf.math.log instead.\n",
            "\n",
            "W0706 02:28:50.993866 139745330485120 deprecation.py:323] From /usr/local/lib/python3.6/dist-packages/tensorflow/python/ops/math_grad.py:1250: add_dispatch_support.<locals>.wrapper (from tensorflow.python.ops.array_ops) is deprecated and will be removed in a future version.\n",
            "Instructions for updating:\n",
            "Use tf.where in 2.0, which has the same broadcast rule as np.where\n"
          ],
          "name": "stderr"
        },
        {
          "output_type": "stream",
          "text": [
            "Train on 60000 samples, validate on 10000 samples\n",
            "Epoch 1/12\n",
            "60000/60000 [==============================] - 20s 333us/step - loss: 0.2368 - acc: 0.9275 - val_loss: 0.0499 - val_acc: 0.9832\n",
            "Epoch 2/12\n",
            "60000/60000 [==============================] - 13s 224us/step - loss: 0.0737 - acc: 0.9771 - val_loss: 0.0347 - val_acc: 0.9888\n",
            "Epoch 3/12\n",
            "60000/60000 [==============================] - 13s 222us/step - loss: 0.0542 - acc: 0.9841 - val_loss: 0.0359 - val_acc: 0.9877\n",
            "Epoch 4/12\n",
            "60000/60000 [==============================] - 13s 222us/step - loss: 0.0427 - acc: 0.9875 - val_loss: 0.0252 - val_acc: 0.9915\n",
            "Epoch 5/12\n",
            "60000/60000 [==============================] - 13s 222us/step - loss: 0.0362 - acc: 0.9889 - val_loss: 0.0221 - val_acc: 0.9924\n",
            "Epoch 6/12\n",
            "60000/60000 [==============================] - 13s 221us/step - loss: 0.0283 - acc: 0.9910 - val_loss: 0.0250 - val_acc: 0.9920\n",
            "Epoch 7/12\n",
            "60000/60000 [==============================] - 13s 222us/step - loss: 0.0268 - acc: 0.9915 - val_loss: 0.0272 - val_acc: 0.9917\n",
            "Epoch 8/12\n",
            "60000/60000 [==============================] - 13s 222us/step - loss: 0.0235 - acc: 0.9927 - val_loss: 0.0231 - val_acc: 0.9924\n",
            "Epoch 9/12\n",
            "60000/60000 [==============================] - 13s 222us/step - loss: 0.0210 - acc: 0.9937 - val_loss: 0.0255 - val_acc: 0.9915\n",
            "Epoch 10/12\n",
            "60000/60000 [==============================] - 13s 221us/step - loss: 0.0175 - acc: 0.9946 - val_loss: 0.0255 - val_acc: 0.9923\n",
            "Epoch 11/12\n",
            "60000/60000 [==============================] - 13s 221us/step - loss: 0.0179 - acc: 0.9944 - val_loss: 0.0235 - val_acc: 0.9931\n",
            "Epoch 12/12\n",
            "60000/60000 [==============================] - 13s 221us/step - loss: 0.0165 - acc: 0.9947 - val_loss: 0.0257 - val_acc: 0.9933\n",
            "Test loss: 0.02573039901818379\n",
            "Test accuracy: 0.9933\n"
          ],
          "name": "stdout"
        }
      ]
    },
    {
      "cell_type": "code",
      "metadata": {
        "id": "sfUxqyox5T52",
        "colab_type": "code",
        "colab": {
          "base_uri": "https://localhost:8080/",
          "height": 316
        },
        "outputId": "d1085a1c-ddce-4654-e647-370b3443174f"
      },
      "source": [
        "from IPython.display import Image\n",
        "import matplotlib.pyplot as plt\n",
        "\n",
        "score = model.evaluate(x_test, y_test, verbose=0) \n",
        "print('Test score:', score[0]) \n",
        "print('Test accuracy:', score[1])\n",
        "\n",
        "fig,ax = plt.subplots(1,1)\n",
        "ax.set_xlabel('epoch') ; ax.set_ylabel('Categorical Crossentropy Loss')\n",
        "\n",
        "# list of epoch numbers\n",
        "x = list(range(1,epochs+1))\n",
        "\n",
        "from keras.callbacks import History\n",
        "vy = history.history['val_loss']\n",
        "ty = history.history['loss']\n",
        "ax.plot(x, vy, 'b', label=\"Validation Loss\")\n",
        "ax.plot(x, ty, 'r', label=\"Train Loss\")\n",
        "plt.legend()\n",
        "plt.grid()\n",
        "\n",
        "fig.savefig('my_figure.png')\n",
        "# Image('my_figure.png')"
      ],
      "execution_count": 9,
      "outputs": [
        {
          "output_type": "stream",
          "text": [
            "Test score: 0.02573039901818379\n",
            "Test accuracy: 0.9933\n"
          ],
          "name": "stdout"
        },
        {
          "output_type": "display_data",
          "data": {
            "image/png": "[encoded data removed]",
            "text/plain": [
              "<Figure size 432x288 with 1 Axes>"
            ]
          },
          "metadata": {
            "tags": []
          }
        }
      ]
    },
    {
      "cell_type": "code",
      "metadata": {
        "id": "tNGE2aTy5Ys5",
        "colab_type": "code",
        "colab": {}
      },
      "source": [
        ""
      ],
      "execution_count": 0,
      "outputs": []
    },
    {
      "cell_type": "markdown",
      "metadata": {
        "id": "jr1KaOc_5yEC",
        "colab_type": "text"
      },
      "source": [
        "# CONCLUSION"
      ]
    },
    {
      "cell_type": "code",
      "metadata": {
        "id": "Ynred4uI5yRf",
        "colab_type": "code",
        "colab": {}
      },
      "source": [
        "from prettytable import PrettyTable\n",
        "table=PrettyTable(['MODEL','NO. OF HIDDEN LAYERS','ARCHITECTURE','Categorical Crossentropy Loss','ACCURACY'])\n",
        "\n",
        "table.add_row(['MODEL 1','3','IP->CN->DP->CN->CN->PL->DP->FL->DN->DP->DN','0.02223','0.9931'])\n",
        "table.add_row(['MODEL 2','5','IP->CN->DP->BN->CN->PL->DP->CN->PL->BN->DP->CN->DP->BN->PL->FL->DN->DP->DN->OP','0.0969','0.9825'])\n",
        "table.add_row(['MODEL 3','7','IP->CN->DP->BN->PL->CN->BN->DP->PL->CN->DP->BN->PL->CN->BN->DP->CN->BN->DP->PL->CN->DP->BN->PL->CN->BN->DP->PL->FL->DN->DN->OP','0.0603','0.9848'])\n",
        "table.add_row(['MODEL 4','3','IP->CN->CN->CN->PL->FL->DN->DN','0.0257','0.9933'])\n",
        "\n",
        "\n",
        "\n",
        "\n"
      ],
      "execution_count": 0,
      "outputs": []
    },
    {
      "cell_type": "code",
      "metadata": {
        "id": "nhtp1UqZ5yfP",
        "colab_type": "code",
        "colab": {
          "base_uri": "https://localhost:8080/",
          "height": 354
        },
        "outputId": "ba299ecf-2d26-4d0c-e905-efabea5de328"
      },
      "source": [
        "print('ABBREVATIONS \\n1.BN-> BATCH NORMALISATION\\n2.DP-> DROPOUTS\\n3.IP-> INPUT LAYER\\n4.OP-> OUTPUT LAYER\\n5.FL-> FLATTEN LAYER \\n6.CN-> CONVOLUTIONAL LAYER\\n7.PL-> MAX POOLING  \\n8.DN-> DENSE LAYER\\n\\n TABLE')\n",
        "\n",
        "print(table)"
      ],
      "execution_count": 11,
      "outputs": [
        {
          "output_type": "stream",
          "text": [
            "ABBREVATIONS \n",
            "1.BN-> BATCH NORMALISATION\n",
            "2.DP-> DROPOUTS\n",
            "3.IP-> INPUT LAYER\n",
            "4.OP-> OUTPUT LAYER\n",
            "5.FL-> FLATTEN LAYER \n",
            "6.CN-> CONVOLUTIONAL LAYER\n",
            "7.PL-> MAX POOLING  \n",
            "8.DN-> DENSE LAYER\n",
            "\n",
            " TABLE\n",
            "+---------+----------------------+--------------------------------------------------------------------------------------------------------------------------------+-------------------------------+----------+\n",
            "|  MODEL  | NO. OF HIDDEN LAYERS |                                                          ARCHITECTURE                                                          | Categorical Crossentropy Loss | ACCURACY |\n",
            "+---------+----------------------+--------------------------------------------------------------------------------------------------------------------------------+-------------------------------+----------+\n",
            "| MODEL 1 |          3           |                                           IP->CN->DP->CN->CN->PL->DP->FL->DN->DP->DN                                           |            0.02223            |  0.9931  |\n",
            "| MODEL 2 |          5           |                         IP->CN->DP->BN->CN->PL->DP->CN->PL->BN->DP->CN->DP->BN->PL->FL->DN->DP->DN->OP                         |             0.0969            |  0.9825  |\n",
            "| MODEL 3 |          7           | IP->CN->DP->BN->PL->CN->BN->DP->PL->CN->DP->BN->PL->CN->BN->DP->CN->BN->DP->PL->CN->DP->BN->PL->CN->BN->DP->PL->FL->DN->DN->OP |             0.0603            |  0.9848  |\n",
            "| MODEL 4 |          3           |                                                 IP->CN->CN->CN->PL->FL->DN->DN                                                 |             0.0257            |  0.9933  |\n",
            "+---------+----------------------+--------------------------------------------------------------------------------------------------------------------------------+-------------------------------+----------+\n"
          ],
          "name": "stdout"
        }
      ]
    }
  ]
}