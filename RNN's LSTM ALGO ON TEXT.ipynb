{
 "cells": [
  {
   "cell_type": "markdown",
   "metadata": {
    "colab_type": "text",
    "id": "L_xC-Am5Rukh"
   },
   "source": [
    "# ASSIGNMENT 14"
   ]
  },
  {
   "cell_type": "code",
   "execution_count": 0,
   "metadata": {
    "colab": {},
    "colab_type": "code",
    "collapsed": true,
    "id": "dVIOFkV9RuvE"
   },
   "outputs": [],
   "source": [
    "import numpy\n",
    "import pandas as pd\n",
    "from keras.datasets import imdb\n",
    "from keras.models import Sequential\n",
    "from keras.layers import Dense\n",
    "from keras.layers import LSTM\n",
    "from keras.layers import Dropout\n",
    "from keras.layers.embeddings import Embedding\n",
    "from keras.preprocessing import sequence"
   ]
  },
  {
   "cell_type": "code",
   "execution_count": 0,
   "metadata": {
    "colab": {},
    "colab_type": "code",
    "collapsed": true,
    "id": "NEoYO3wCgxnT"
   },
   "outputs": [],
   "source": [
    "data=pd.read_csv('preprocessed_data.csv')"
   ]
  },
  {
   "cell_type": "code",
   "execution_count": 95,
   "metadata": {
    "colab": {
     "base_uri": "https://localhost:8080/",
     "height": 196
    },
    "colab_type": "code",
    "id": "nBMFVrTXhu0f",
    "outputId": "2fe70052-eb80-41b7-bf53-59c580aa5950"
   },
   "outputs": [
    {
     "data": {
      "text/html": [
       "<div>\n",
       "<style scoped>\n",
       "    .dataframe tbody tr th:only-of-type {\n",
       "        vertical-align: middle;\n",
       "    }\n",
       "\n",
       "    .dataframe tbody tr th {\n",
       "        vertical-align: top;\n",
       "    }\n",
       "\n",
       "    .dataframe thead th {\n",
       "        text-align: right;\n",
       "    }\n",
       "</style>\n",
       "<table border=\"1\" class=\"dataframe\">\n",
       "  <thead>\n",
       "    <tr style=\"text-align: right;\">\n",
       "      <th></th>\n",
       "      <th>Unnamed: 0</th>\n",
       "      <th>Text</th>\n",
       "      <th>Score</th>\n",
       "    </tr>\n",
       "  </thead>\n",
       "  <tbody>\n",
       "    <tr>\n",
       "      <th>0</th>\n",
       "      <td>0</td>\n",
       "      <td>dogs loves chicken product china wont buying a...</td>\n",
       "      <td>0</td>\n",
       "    </tr>\n",
       "    <tr>\n",
       "      <th>1</th>\n",
       "      <td>1</td>\n",
       "      <td>dogs love saw pet store tag attached regarding...</td>\n",
       "      <td>1</td>\n",
       "    </tr>\n",
       "    <tr>\n",
       "      <th>2</th>\n",
       "      <td>2</td>\n",
       "      <td>infestation fruitflies literally everywhere fl...</td>\n",
       "      <td>0</td>\n",
       "    </tr>\n",
       "    <tr>\n",
       "      <th>3</th>\n",
       "      <td>3</td>\n",
       "      <td>worst product gotten long time would rate no s...</td>\n",
       "      <td>0</td>\n",
       "    </tr>\n",
       "    <tr>\n",
       "      <th>4</th>\n",
       "      <td>4</td>\n",
       "      <td>wish would read reviews making purchase basica...</td>\n",
       "      <td>0</td>\n",
       "    </tr>\n",
       "  </tbody>\n",
       "</table>\n",
       "</div>"
      ],
      "text/plain": [
       "  Unnamed: 0                                               Text Score\n",
       "0          0  dogs loves chicken product china wont buying a...     0\n",
       "1          1  dogs love saw pet store tag attached regarding...     1\n",
       "2          2  infestation fruitflies literally everywhere fl...     0\n",
       "3          3  worst product gotten long time would rate no s...     0\n",
       "4          4  wish would read reviews making purchase basica...     0"
      ]
     },
     "execution_count": 95,
     "metadata": {
      "tags": []
     },
     "output_type": "execute_result"
    }
   ],
   "source": [
    "data.head()"
   ]
  },
  {
   "cell_type": "code",
   "execution_count": 0,
   "metadata": {
    "colab": {},
    "colab_type": "code",
    "collapsed": true,
    "id": "dGM6a3V2oimi"
   },
   "outputs": [],
   "source": [
    "data=data.drop(['Unnamed: 0'],axis=1)"
   ]
  },
  {
   "cell_type": "code",
   "execution_count": 97,
   "metadata": {
    "colab": {
     "base_uri": "https://localhost:8080/",
     "height": 196
    },
    "colab_type": "code",
    "id": "3q-xiptIoohq",
    "outputId": "ed21911c-46df-4e5e-c253-f882af06020e"
   },
   "outputs": [
    {
     "data": {
      "text/html": [
       "<div>\n",
       "<style scoped>\n",
       "    .dataframe tbody tr th:only-of-type {\n",
       "        vertical-align: middle;\n",
       "    }\n",
       "\n",
       "    .dataframe tbody tr th {\n",
       "        vertical-align: top;\n",
       "    }\n",
       "\n",
       "    .dataframe thead th {\n",
       "        text-align: right;\n",
       "    }\n",
       "</style>\n",
       "<table border=\"1\" class=\"dataframe\">\n",
       "  <thead>\n",
       "    <tr style=\"text-align: right;\">\n",
       "      <th></th>\n",
       "      <th>Text</th>\n",
       "      <th>Score</th>\n",
       "    </tr>\n",
       "  </thead>\n",
       "  <tbody>\n",
       "    <tr>\n",
       "      <th>0</th>\n",
       "      <td>dogs loves chicken product china wont buying a...</td>\n",
       "      <td>0</td>\n",
       "    </tr>\n",
       "    <tr>\n",
       "      <th>1</th>\n",
       "      <td>dogs love saw pet store tag attached regarding...</td>\n",
       "      <td>1</td>\n",
       "    </tr>\n",
       "    <tr>\n",
       "      <th>2</th>\n",
       "      <td>infestation fruitflies literally everywhere fl...</td>\n",
       "      <td>0</td>\n",
       "    </tr>\n",
       "    <tr>\n",
       "      <th>3</th>\n",
       "      <td>worst product gotten long time would rate no s...</td>\n",
       "      <td>0</td>\n",
       "    </tr>\n",
       "    <tr>\n",
       "      <th>4</th>\n",
       "      <td>wish would read reviews making purchase basica...</td>\n",
       "      <td>0</td>\n",
       "    </tr>\n",
       "  </tbody>\n",
       "</table>\n",
       "</div>"
      ],
      "text/plain": [
       "                                                Text Score\n",
       "0  dogs loves chicken product china wont buying a...     0\n",
       "1  dogs love saw pet store tag attached regarding...     1\n",
       "2  infestation fruitflies literally everywhere fl...     0\n",
       "3  worst product gotten long time would rate no s...     0\n",
       "4  wish would read reviews making purchase basica...     0"
      ]
     },
     "execution_count": 97,
     "metadata": {
      "tags": []
     },
     "output_type": "execute_result"
    }
   ],
   "source": [
    "data.head()"
   ]
  },
  {
   "cell_type": "code",
   "execution_count": 98,
   "metadata": {
    "colab": {
     "base_uri": "https://localhost:8080/",
     "height": 33
    },
    "colab_type": "code",
    "id": "mgOZWLR7o1ZG",
    "outputId": "67f5db9d-f82a-4863-855d-2d8c1c79235b"
   },
   "outputs": [
    {
     "data": {
      "text/plain": [
       "(50000, 2)"
      ]
     },
     "execution_count": 98,
     "metadata": {
      "tags": []
     },
     "output_type": "execute_result"
    }
   ],
   "source": [
    "data.shape"
   ]
  },
  {
   "cell_type": "code",
   "execution_count": 0,
   "metadata": {
    "colab": {},
    "colab_type": "code",
    "collapsed": true,
    "id": "KuE6txMUxshr"
   },
   "outputs": [],
   "source": [
    "data = data.sample(frac=1).reset_index(drop = True)"
   ]
  },
  {
   "cell_type": "code",
   "execution_count": 100,
   "metadata": {
    "colab": {
     "base_uri": "https://localhost:8080/",
     "height": 33
    },
    "colab_type": "code",
    "id": "37d6TePq3VuN",
    "outputId": "5c8c50da-2649-4cdd-8d14-2ee8548008b7"
   },
   "outputs": [
    {
     "data": {
      "text/plain": [
       "(50000, 2)"
      ]
     },
     "execution_count": 100,
     "metadata": {
      "tags": []
     },
     "output_type": "execute_result"
    }
   ],
   "source": [
    "data.shape"
   ]
  },
  {
   "cell_type": "code",
   "execution_count": 0,
   "metadata": {
    "colab": {},
    "colab_type": "code",
    "collapsed": true,
    "id": "zFYJtmab6UB2"
   },
   "outputs": [],
   "source": [
    "X = data['Text']\n",
    "y = data['Score']"
   ]
  },
  {
   "cell_type": "code",
   "execution_count": 0,
   "metadata": {
    "colab": {},
    "colab_type": "code",
    "collapsed": true,
    "id": "3R9-WioN6tRe"
   },
   "outputs": [],
   "source": [
    "X_train = X[:40000]\n",
    "X_test = X[40000:]\n",
    "y_train = y[:40000]\n",
    "y_test = y[40000:]"
   ]
  },
  {
   "cell_type": "markdown",
   "metadata": {
    "colab_type": "text",
    "id": "GBTeS1P_5lf_"
   },
   "source": [
    "# PREPROCESSING DATA FOR THE MODELING\n"
   ]
  },
  {
   "cell_type": "code",
   "execution_count": 0,
   "metadata": {
    "colab": {},
    "colab_type": "code",
    "collapsed": true,
    "id": "XipVIywO62lK"
   },
   "outputs": [],
   "source": [
    "from keras.preprocessing.text import Tokenizer\n",
    "top_words=5000\n",
    "t = Tokenizer(num_words=top_words)\n",
    "t.fit_on_texts(X_train)\n",
    "X_train = t.texts_to_sequences(X_train)\n",
    "X_test = t.texts_to_sequences(X_test)"
   ]
  },
  {
   "cell_type": "code",
   "execution_count": 0,
   "metadata": {
    "colab": {},
    "colab_type": "code",
    "collapsed": true,
    "id": "jYm5Ya-H66Sm"
   },
   "outputs": [],
   "source": [
    "max_review_length = 500\n",
    "X_train = sequence.pad_sequences(X_train, maxlen=max_review_length)\n",
    "X_test = sequence.pad_sequences(X_test, maxlen=max_review_length)\n"
   ]
  },
  {
   "cell_type": "markdown",
   "metadata": {
    "colab_type": "text",
    "id": "sag7HnVF5fLs"
   },
   "source": [
    "# MODEL1 (Singal Layer Of LSTM)"
   ]
  },
  {
   "cell_type": "code",
   "execution_count": 126,
   "metadata": {
    "colab": {
     "base_uri": "https://localhost:8080/",
     "height": 572
    },
    "colab_type": "code",
    "id": "04mOrNfD-OOP",
    "outputId": "7b047a1d-3f2b-48d3-df31-34edb8055af6"
   },
   "outputs": [
    {
     "name": "stderr",
     "output_type": "stream",
     "text": [
      "W0705 14:26:46.662816 139745910429568 deprecation_wrapper.py:119] From /usr/local/lib/python3.6/dist-packages/keras/backend/tensorflow_backend.py:517: The name tf.placeholder is deprecated. Please use tf.compat.v1.placeholder instead.\n",
      "\n",
      "W0705 14:26:46.681166 139745910429568 deprecation_wrapper.py:119] From /usr/local/lib/python3.6/dist-packages/keras/backend/tensorflow_backend.py:4138: The name tf.random_uniform is deprecated. Please use tf.random.uniform instead.\n",
      "\n",
      "W0705 14:26:46.910787 139745910429568 deprecation_wrapper.py:119] From /usr/local/lib/python3.6/dist-packages/keras/backend/tensorflow_backend.py:133: The name tf.placeholder_with_default is deprecated. Please use tf.compat.v1.placeholder_with_default instead.\n",
      "\n",
      "W0705 14:26:46.919233 139745910429568 deprecation.py:506] From /usr/local/lib/python3.6/dist-packages/keras/backend/tensorflow_backend.py:3445: calling dropout (from tensorflow.python.ops.nn_ops) with keep_prob is deprecated and will be removed in a future version.\n",
      "Instructions for updating:\n",
      "Please use `rate` instead of `keep_prob`. Rate should be set to `rate = 1 - keep_prob`.\n",
      "W0705 14:26:46.944537 139745910429568 deprecation_wrapper.py:119] From /usr/local/lib/python3.6/dist-packages/keras/optimizers.py:790: The name tf.train.Optimizer is deprecated. Please use tf.compat.v1.train.Optimizer instead.\n",
      "\n",
      "W0705 14:26:46.964025 139745910429568 deprecation_wrapper.py:119] From /usr/local/lib/python3.6/dist-packages/keras/backend/tensorflow_backend.py:3376: The name tf.log is deprecated. Please use tf.math.log instead.\n",
      "\n",
      "W0705 14:26:46.969230 139745910429568 deprecation.py:323] From /usr/local/lib/python3.6/dist-packages/tensorflow/python/ops/nn_impl.py:180: add_dispatch_support.<locals>.wrapper (from tensorflow.python.ops.array_ops) is deprecated and will be removed in a future version.\n",
      "Instructions for updating:\n",
      "Use tf.where in 2.0, which has the same broadcast rule as np.where\n"
     ]
    },
    {
     "name": "stdout",
     "output_type": "stream",
     "text": [
      "_________________________________________________________________\n",
      "Layer (type)                 Output Shape              Param #   \n",
      "=================================================================\n",
      "embedding_1 (Embedding)      (None, 500, 32)           160032    \n",
      "_________________________________________________________________\n",
      "lstm_1 (LSTM)                (None, 100)               53200     \n",
      "_________________________________________________________________\n",
      "dropout_1 (Dropout)          (None, 100)               0         \n",
      "_________________________________________________________________\n",
      "dense_1 (Dense)              (None, 1)                 101       \n",
      "=================================================================\n",
      "Total params: 213,333\n",
      "Trainable params: 213,333\n",
      "Non-trainable params: 0\n",
      "_________________________________________________________________\n",
      "None\n"
     ]
    }
   ],
   "source": [
    "# create the model\n",
    "embedding_vecor_length = 32\n",
    "model = Sequential()\n",
    "\n",
    "model.add(Embedding(top_words+1, embedding_vecor_length, input_length=max_review_length))\n",
    "model.add(LSTM(100))\n",
    "model.add(Dropout(0.2))\n",
    "model.add(Dense(1, activation='sigmoid'))\n",
    "model.compile(loss='binary_crossentropy', optimizer='adam', metrics=['accuracy'])\n",
    "print(model.summary())\n",
    "#Refer: https://datascience.stackexchange.com/questions/10615/number-of-parameters-in-an-lstm-model"
   ]
  },
  {
   "cell_type": "code",
   "execution_count": 138,
   "metadata": {
    "colab": {
     "base_uri": "https://localhost:8080/",
     "height": 385
    },
    "colab_type": "code",
    "id": "CE5GFn1kR6kn",
    "outputId": "4da07673-951f-4353-fa27-228276da5081"
   },
   "outputs": [
    {
     "name": "stdout",
     "output_type": "stream",
     "text": [
      "Train on 40000 samples, validate on 10000 samples\n",
      "Epoch 1/10\n",
      "40000/40000 [==============================] - 471s 12ms/step - loss: 0.0677 - acc: 0.9773 - val_loss: 0.3294 - val_acc: 0.9006\n",
      "Epoch 2/10\n",
      "40000/40000 [==============================] - 466s 12ms/step - loss: 0.0631 - acc: 0.9788 - val_loss: 0.3614 - val_acc: 0.9025\n",
      "Epoch 3/10\n",
      "40000/40000 [==============================] - 466s 12ms/step - loss: 0.0510 - acc: 0.9837 - val_loss: 0.4116 - val_acc: 0.8934\n",
      "Epoch 4/10\n",
      "40000/40000 [==============================] - 470s 12ms/step - loss: 0.0527 - acc: 0.9826 - val_loss: 0.4283 - val_acc: 0.8969\n",
      "Epoch 5/10\n",
      "40000/40000 [==============================] - 467s 12ms/step - loss: 0.0351 - acc: 0.9895 - val_loss: 0.5029 - val_acc: 0.8977\n",
      "Epoch 6/10\n",
      "40000/40000 [==============================] - 468s 12ms/step - loss: 0.0281 - acc: 0.9919 - val_loss: 0.5285 - val_acc: 0.8944\n",
      "Epoch 7/10\n",
      "40000/40000 [==============================] - 469s 12ms/step - loss: 0.0341 - acc: 0.9891 - val_loss: 0.4790 - val_acc: 0.8977\n",
      "Epoch 8/10\n",
      "40000/40000 [==============================] - 473s 12ms/step - loss: 0.0290 - acc: 0.9914 - val_loss: 0.5441 - val_acc: 0.8925\n",
      "Epoch 9/10\n",
      "40000/40000 [==============================] - 480s 12ms/step - loss: 0.0175 - acc: 0.9948 - val_loss: 0.5784 - val_acc: 0.8905\n",
      "Epoch 10/10\n",
      "40000/40000 [==============================] - 486s 12ms/step - loss: 0.0176 - acc: 0.9950 - val_loss: 0.6054 - val_acc: 0.8926\n",
      "Accuracy: 89.26%\n"
     ]
    }
   ],
   "source": [
    "history=model.fit(X_train, y_train, epochs=10, batch_size=64,validation_data=(X_test, y_test))\n",
    "scores = model.evaluate(X_test, y_test, verbose=0)\n",
    "print(\"Accuracy:\", (scores[1]*100),\"%\")"
   ]
  },
  {
   "cell_type": "code",
   "execution_count": 141,
   "metadata": {
    "colab": {
     "base_uri": "https://localhost:8080/",
     "height": 305
    },
    "colab_type": "code",
    "id": "-2PAxHBce9CG",
    "outputId": "a7485cc9-51d9-4381-f148-67326c4348fb"
   },
   "outputs": [
    {
     "data": {
      "image/png": "[encoded data removed]",
      "text/plain": [
       "<IPython.core.display.Image object>"
      ]
     },
     "execution_count": 141,
     "metadata": {
      "tags": []
     },
     "output_type": "execute_result"
    }
   ],
   "source": [
    "from IPython.display import Image\n",
    "import matplotlib.pyplot as plt\n",
    "\n",
    "\n",
    "fig,ax = plt.subplots(1,1)\n",
    "ax.set_xlabel('epoch') ; ax.set_ylabel('Categorical Crossentropy Loss')\n",
    "\n",
    "# list of epoch numbers\n",
    "x = list(range(1,11))\n",
    "\n",
    "\n",
    "vy = history.history['val_loss']\n",
    "ty = history.history['loss']\n",
    "ax.plot(x, vy, 'b', label=\"Validation Loss\")\n",
    "ax.plot(x, ty, 'r', label=\"Train Loss\")\n",
    "plt.legend()\n",
    "plt.grid()\n"
   ]
  },
  {
   "cell_type": "markdown",
   "metadata": {
    "colab_type": "text",
    "id": "iJl24eeja9nC"
   },
   "source": [
    "# Model 2 (Two Layers Of LSTM)"
   ]
  },
  {
   "cell_type": "code",
   "execution_count": 142,
   "metadata": {
    "colab": {
     "base_uri": "https://localhost:8080/",
     "height": 284
    },
    "colab_type": "code",
    "id": "2xhULbXvVr42",
    "outputId": "9ad3c59e-8b6c-4919-8b48-d7064a56ee0e"
   },
   "outputs": [
    {
     "name": "stdout",
     "output_type": "stream",
     "text": [
      "_________________________________________________________________\n",
      "Layer (type)                 Output Shape              Param #   \n",
      "=================================================================\n",
      "embedding_2 (Embedding)      (None, 500, 32)           160032    \n",
      "_________________________________________________________________\n",
      "lstm_2 (LSTM)                (None, 500, 100)          53200     \n",
      "_________________________________________________________________\n",
      "lstm_3 (LSTM)                (None, 100)               80400     \n",
      "_________________________________________________________________\n",
      "dense_2 (Dense)              (None, 1)                 101       \n",
      "=================================================================\n",
      "Total params: 293,733\n",
      "Trainable params: 293,733\n",
      "Non-trainable params: 0\n",
      "_________________________________________________________________\n",
      "None\n"
     ]
    }
   ],
   "source": [
    "embedding_vecor_length = 32\n",
    "model1 = Sequential()\n",
    "#Layer1\n",
    "model1.add(Embedding(top_words+1, embedding_vecor_length, input_length=max_review_length))\n",
    "model1.add(LSTM(100, return_sequences=True))\n",
    "# for the output from the layer1 putting the value of 'return_sequences' as True\n",
    "\n",
    "#Layer2\n",
    "model1.add(LSTM(100))\n",
    "model1.add(Dense(1, activation='relu'))\n",
    "model1.compile(loss='binary_crossentropy', optimizer='adam', metrics=['accuracy'])\n",
    "\n",
    "print(model1.summary())"
   ]
  },
  {
   "cell_type": "code",
   "execution_count": 143,
   "metadata": {
    "colab": {
     "base_uri": "https://localhost:8080/",
     "height": 385
    },
    "colab_type": "code",
    "id": "MbUVo1anbKqE",
    "outputId": "0f865b21-1fe2-4440-bbd0-ecbbddf1b729"
   },
   "outputs": [
    {
     "name": "stdout",
     "output_type": "stream",
     "text": [
      "Train on 40000 samples, validate on 10000 samples\n",
      "Epoch 1/10\n",
      "40000/40000 [==============================] - 488s 12ms/step - loss: 0.0236 - acc: 0.9924 - val_loss: 0.6019 - val_acc: 0.8972\n",
      "Epoch 2/10\n",
      "40000/40000 [==============================] - 483s 12ms/step - loss: 0.0144 - acc: 0.9956 - val_loss: 0.6766 - val_acc: 0.8954\n",
      "Epoch 3/10\n",
      "40000/40000 [==============================] - 484s 12ms/step - loss: 0.0128 - acc: 0.9963 - val_loss: 0.6881 - val_acc: 0.8936\n",
      "Epoch 4/10\n",
      "40000/40000 [==============================] - 480s 12ms/step - loss: 0.0251 - acc: 0.9922 - val_loss: 0.6098 - val_acc: 0.8945\n",
      "Epoch 5/10\n",
      "40000/40000 [==============================] - 472s 12ms/step - loss: 0.0097 - acc: 0.9970 - val_loss: 0.6701 - val_acc: 0.8943\n",
      "Epoch 6/10\n",
      "40000/40000 [==============================] - 467s 12ms/step - loss: 0.0060 - acc: 0.9986 - val_loss: 0.7369 - val_acc: 0.8968\n",
      "Epoch 7/10\n",
      "40000/40000 [==============================] - 465s 12ms/step - loss: 0.0039 - acc: 0.9991 - val_loss: 0.8114 - val_acc: 0.8930\n",
      "Epoch 8/10\n",
      "40000/40000 [==============================] - 465s 12ms/step - loss: 0.0079 - acc: 0.9977 - val_loss: 0.7260 - val_acc: 0.9016\n",
      "Epoch 9/10\n",
      "40000/40000 [==============================] - 465s 12ms/step - loss: 0.0138 - acc: 0.9957 - val_loss: 0.7357 - val_acc: 0.8932\n",
      "Epoch 10/10\n",
      "40000/40000 [==============================] - 463s 12ms/step - loss: 0.0107 - acc: 0.9969 - val_loss: 0.7371 - val_acc: 0.8941\n",
      "Accuracy: 89.41%\n"
     ]
    }
   ],
   "source": [
    "history=model.fit(X_train, y_train, epochs=10, batch_size=64,validation_data=(X_test, y_test))\n",
    "scores = model.evaluate(X_test, y_test, verbose=0)\n",
    "print(\"Accuracy:\", (scores[1]*100),\"%\")"
   ]
  },
  {
   "cell_type": "code",
   "execution_count": 144,
   "metadata": {
    "colab": {
     "base_uri": "https://localhost:8080/",
     "height": 316
    },
    "colab_type": "code",
    "id": "J3bT7tvvpan4",
    "outputId": "cebd4990-f9e7-48e1-c81c-2d19b2759be9"
   },
   "outputs": [
    {
     "name": "stdout",
     "output_type": "stream",
     "text": [
      "Test score: 0.7371434801854193\n",
      "Test accuracy: 0.8941\n"
     ]
    },
    {
     "data": {
      "image/png": "[encoded data removed]",
      "text/plain": [
       "<Figure size 432x288 with 1 Axes>"
      ]
     },
     "metadata": {
      "tags": []
     },
     "output_type": "display_data"
    }
   ],
   "source": [
    "from IPython.display import Image\n",
    "import matplotlib.pyplot as plt\n",
    "\n",
    "score = model.evaluate(X_test, y_test, verbose=0) \n",
    "print('Test score:', score[0]) \n",
    "print('Test accuracy:', score[1])\n",
    "\n",
    "fig,ax = plt.subplots(1,1)\n",
    "ax.set_xlabel('epoch') ; ax.set_ylabel('Categorical Crossentropy Loss')\n",
    "\n",
    "# list of epoch numbers\n",
    "x = list(range(1,11))\n",
    "\n",
    "\n",
    "vy = history.history['val_loss']\n",
    "ty = history.history['loss']\n",
    "ax.plot(x, vy, 'b', label=\"Validation Loss\")\n",
    "ax.plot(x, ty, 'r', label=\"Train Loss\")\n",
    "plt.legend()\n",
    "plt.grid()\n",
    "\n",
    "fig.savefig('my_figure.png')\n",
    "# Image('my_figure.png')"
   ]
  },
  {
   "cell_type": "markdown",
   "metadata": {
    "colab_type": "text",
    "id": "o6FwoJJ9bNRp"
   },
   "source": [
    "# CONCLUSION\n"
   ]
  },
  {
   "cell_type": "code",
   "execution_count": 0,
   "metadata": {
    "colab": {},
    "colab_type": "code",
    "collapsed": true,
    "id": "_JaX70QNbO9L"
   },
   "outputs": [],
   "source": [
    "from prettytable import PrettyTable"
   ]
  },
  {
   "cell_type": "code",
   "execution_count": 0,
   "metadata": {
    "colab": {},
    "colab_type": "code",
    "collapsed": true,
    "id": "WrZGIHWYO9d5"
   },
   "outputs": [],
   "source": [
    "table=PrettyTable(['Layers','Architecture','Loss','Accuracy'])\n",
    "table.add_row(['1','EMBEDDING->LSTM->DROPOUT->DENSE','0.6054','89.26%'])\n",
    "table.add_row(['2','EMBEDDING->LSTM->LSTM->DENSE','0.7312','89.41%'])"
   ]
  },
  {
   "cell_type": "code",
   "execution_count": 148,
   "metadata": {
    "colab": {
     "base_uri": "https://localhost:8080/",
     "height": 117
    },
    "colab_type": "code",
    "id": "BCmUxLBuQjdm",
    "outputId": "b5d9dc0e-4050-4700-e191-772628c6f8eb"
   },
   "outputs": [
    {
     "name": "stdout",
     "output_type": "stream",
     "text": [
      "+--------+---------------------------------+--------+----------+\n",
      "| Layers |           Architecture          |  Loss  | Accuracy |\n",
      "+--------+---------------------------------+--------+----------+\n",
      "|   1    | EMBEDDING->LSTM->DROPOUT->DENSE | 0.6054 |  89.26%  |\n",
      "|   2    |   EMBEDDING->LSTM->LSTM->DENSE  | 0.7312 |  89.41%  |\n",
      "+--------+---------------------------------+--------+----------+\n"
     ]
    }
   ],
   "source": [
    "print(table)"
   ]
  },
  {
   "cell_type": "markdown",
   "metadata": {
    "colab_type": "text",
    "id": "Zea9da6nQxs4"
   },
   "source": [
    "#### FEW POINTS:\n",
    "\n",
    "* Above Both Models are overfitting.\n",
    "* We can avoid it adding Dropout Layers and Maxapooling Layers\n",
    "* Didn't perform above two points because it was taking alot of time."
   ]
  }
 ],
 "metadata": {
  "accelerator": "GPU",
  "colab": {
   "collapsed_sections": [],
   "name": "LSTM on amazon fine food reviews.ipynb",
   "provenance": [],
   "version": "0.3.2"
  },
  "kernelspec": {
   "display_name": "Python 3",
   "language": "python",
   "name": "python3"
  },
  "language_info": {
   "codemirror_mode": {
    "name": "ipython",
    "version": 3
   },
   "file_extension": ".py",
   "mimetype": "text/x-python",
   "name": "python",
   "nbconvert_exporter": "python",
   "pygments_lexer": "ipython3",
   "version": "3.6.3"
  }
 },
 "nbformat": 4,
 "nbformat_minor": 1
}
